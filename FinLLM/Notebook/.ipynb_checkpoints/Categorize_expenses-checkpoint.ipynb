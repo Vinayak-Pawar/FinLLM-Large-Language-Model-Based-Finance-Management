{
 "cells": [
  {
   "cell_type": "code",
   "execution_count": 1,
   "id": "68251511-2ddd-4c0c-86ed-7e59cd00c233",
   "metadata": {},
   "outputs": [
    {
     "name": "stdout",
     "output_type": "stream",
     "text": [
      "Requirement already satisfied: langchain_community in /Users/vinayakpawar/anaconda3/envs/ai/lib/python3.11/site-packages (0.2.15)\n",
      "Requirement already satisfied: PyYAML>=5.3 in /Users/vinayakpawar/anaconda3/envs/ai/lib/python3.11/site-packages (from langchain_community) (6.0.2)\n",
      "Requirement already satisfied: SQLAlchemy<3,>=1.4 in /Users/vinayakpawar/anaconda3/envs/ai/lib/python3.11/site-packages (from langchain_community) (2.0.32)\n",
      "Requirement already satisfied: aiohttp<4.0.0,>=3.8.3 in /Users/vinayakpawar/anaconda3/envs/ai/lib/python3.11/site-packages (from langchain_community) (3.10.5)\n",
      "Requirement already satisfied: dataclasses-json<0.7,>=0.5.7 in /Users/vinayakpawar/anaconda3/envs/ai/lib/python3.11/site-packages (from langchain_community) (0.6.7)\n",
      "Requirement already satisfied: langchain<0.3.0,>=0.2.15 in /Users/vinayakpawar/anaconda3/envs/ai/lib/python3.11/site-packages (from langchain_community) (0.2.15)\n",
      "Requirement already satisfied: langchain-core<0.3.0,>=0.2.37 in /Users/vinayakpawar/anaconda3/envs/ai/lib/python3.11/site-packages (from langchain_community) (0.2.37)\n",
      "Requirement already satisfied: langsmith<0.2.0,>=0.1.0 in /Users/vinayakpawar/anaconda3/envs/ai/lib/python3.11/site-packages (from langchain_community) (0.1.108)\n",
      "Requirement already satisfied: numpy<2,>=1 in /Users/vinayakpawar/anaconda3/envs/ai/lib/python3.11/site-packages (from langchain_community) (1.26.4)\n",
      "Requirement already satisfied: requests<3,>=2 in /Users/vinayakpawar/anaconda3/envs/ai/lib/python3.11/site-packages (from langchain_community) (2.32.3)\n",
      "Requirement already satisfied: tenacity!=8.4.0,<9.0.0,>=8.1.0 in /Users/vinayakpawar/anaconda3/envs/ai/lib/python3.11/site-packages (from langchain_community) (8.5.0)\n",
      "Requirement already satisfied: aiohappyeyeballs>=2.3.0 in /Users/vinayakpawar/anaconda3/envs/ai/lib/python3.11/site-packages (from aiohttp<4.0.0,>=3.8.3->langchain_community) (2.4.0)\n",
      "Requirement already satisfied: aiosignal>=1.1.2 in /Users/vinayakpawar/anaconda3/envs/ai/lib/python3.11/site-packages (from aiohttp<4.0.0,>=3.8.3->langchain_community) (1.3.1)\n",
      "Requirement already satisfied: attrs>=17.3.0 in /Users/vinayakpawar/anaconda3/envs/ai/lib/python3.11/site-packages (from aiohttp<4.0.0,>=3.8.3->langchain_community) (24.2.0)\n",
      "Requirement already satisfied: frozenlist>=1.1.1 in /Users/vinayakpawar/anaconda3/envs/ai/lib/python3.11/site-packages (from aiohttp<4.0.0,>=3.8.3->langchain_community) (1.4.1)\n",
      "Requirement already satisfied: multidict<7.0,>=4.5 in /Users/vinayakpawar/anaconda3/envs/ai/lib/python3.11/site-packages (from aiohttp<4.0.0,>=3.8.3->langchain_community) (6.0.5)\n",
      "Requirement already satisfied: yarl<2.0,>=1.0 in /Users/vinayakpawar/anaconda3/envs/ai/lib/python3.11/site-packages (from aiohttp<4.0.0,>=3.8.3->langchain_community) (1.9.6)\n",
      "Requirement already satisfied: marshmallow<4.0.0,>=3.18.0 in /Users/vinayakpawar/anaconda3/envs/ai/lib/python3.11/site-packages (from dataclasses-json<0.7,>=0.5.7->langchain_community) (3.22.0)\n",
      "Requirement already satisfied: typing-inspect<1,>=0.4.0 in /Users/vinayakpawar/anaconda3/envs/ai/lib/python3.11/site-packages (from dataclasses-json<0.7,>=0.5.7->langchain_community) (0.9.0)\n",
      "Requirement already satisfied: langchain-text-splitters<0.3.0,>=0.2.0 in /Users/vinayakpawar/anaconda3/envs/ai/lib/python3.11/site-packages (from langchain<0.3.0,>=0.2.15->langchain_community) (0.2.2)\n",
      "Requirement already satisfied: pydantic<3,>=1 in /Users/vinayakpawar/anaconda3/envs/ai/lib/python3.11/site-packages (from langchain<0.3.0,>=0.2.15->langchain_community) (2.8.2)\n",
      "Requirement already satisfied: jsonpatch<2.0,>=1.33 in /Users/vinayakpawar/anaconda3/envs/ai/lib/python3.11/site-packages (from langchain-core<0.3.0,>=0.2.37->langchain_community) (1.33)\n",
      "Requirement already satisfied: packaging<25,>=23.2 in /Users/vinayakpawar/anaconda3/envs/ai/lib/python3.11/site-packages (from langchain-core<0.3.0,>=0.2.37->langchain_community) (24.1)\n",
      "Requirement already satisfied: typing-extensions>=4.7 in /Users/vinayakpawar/anaconda3/envs/ai/lib/python3.11/site-packages (from langchain-core<0.3.0,>=0.2.37->langchain_community) (4.12.2)\n",
      "Requirement already satisfied: httpx<1,>=0.23.0 in /Users/vinayakpawar/anaconda3/envs/ai/lib/python3.11/site-packages (from langsmith<0.2.0,>=0.1.0->langchain_community) (0.27.2)\n",
      "Requirement already satisfied: orjson<4.0.0,>=3.9.14 in /Users/vinayakpawar/anaconda3/envs/ai/lib/python3.11/site-packages (from langsmith<0.2.0,>=0.1.0->langchain_community) (3.10.7)\n",
      "Requirement already satisfied: charset-normalizer<4,>=2 in /Users/vinayakpawar/anaconda3/envs/ai/lib/python3.11/site-packages (from requests<3,>=2->langchain_community) (3.3.2)\n",
      "Requirement already satisfied: idna<4,>=2.5 in /Users/vinayakpawar/anaconda3/envs/ai/lib/python3.11/site-packages (from requests<3,>=2->langchain_community) (3.8)\n",
      "Requirement already satisfied: urllib3<3,>=1.21.1 in /Users/vinayakpawar/anaconda3/envs/ai/lib/python3.11/site-packages (from requests<3,>=2->langchain_community) (2.2.2)\n",
      "Requirement already satisfied: certifi>=2017.4.17 in /Users/vinayakpawar/anaconda3/envs/ai/lib/python3.11/site-packages (from requests<3,>=2->langchain_community) (2024.8.30)\n",
      "Requirement already satisfied: anyio in /Users/vinayakpawar/anaconda3/envs/ai/lib/python3.11/site-packages (from httpx<1,>=0.23.0->langsmith<0.2.0,>=0.1.0->langchain_community) (4.4.0)\n",
      "Requirement already satisfied: httpcore==1.* in /Users/vinayakpawar/anaconda3/envs/ai/lib/python3.11/site-packages (from httpx<1,>=0.23.0->langsmith<0.2.0,>=0.1.0->langchain_community) (1.0.5)\n",
      "Requirement already satisfied: sniffio in /Users/vinayakpawar/anaconda3/envs/ai/lib/python3.11/site-packages (from httpx<1,>=0.23.0->langsmith<0.2.0,>=0.1.0->langchain_community) (1.3.1)\n",
      "Requirement already satisfied: h11<0.15,>=0.13 in /Users/vinayakpawar/anaconda3/envs/ai/lib/python3.11/site-packages (from httpcore==1.*->httpx<1,>=0.23.0->langsmith<0.2.0,>=0.1.0->langchain_community) (0.14.0)\n",
      "Requirement already satisfied: jsonpointer>=1.9 in /Users/vinayakpawar/anaconda3/envs/ai/lib/python3.11/site-packages (from jsonpatch<2.0,>=1.33->langchain-core<0.3.0,>=0.2.37->langchain_community) (3.0.0)\n",
      "Requirement already satisfied: annotated-types>=0.4.0 in /Users/vinayakpawar/anaconda3/envs/ai/lib/python3.11/site-packages (from pydantic<3,>=1->langchain<0.3.0,>=0.2.15->langchain_community) (0.7.0)\n",
      "Requirement already satisfied: pydantic-core==2.20.1 in /Users/vinayakpawar/anaconda3/envs/ai/lib/python3.11/site-packages (from pydantic<3,>=1->langchain<0.3.0,>=0.2.15->langchain_community) (2.20.1)\n",
      "Requirement already satisfied: mypy-extensions>=0.3.0 in /Users/vinayakpawar/anaconda3/envs/ai/lib/python3.11/site-packages (from typing-inspect<1,>=0.4.0->dataclasses-json<0.7,>=0.5.7->langchain_community) (1.0.0)\n"
     ]
    }
   ],
   "source": [
    "!pip install langchain_community"
   ]
  },
  {
   "cell_type": "code",
   "execution_count": 2,
   "id": "cc4d2588-9e58-4acf-97ae-c348f1f82649",
   "metadata": {},
   "outputs": [],
   "source": [
    "from langchain_community.llms import Ollama"
   ]
  },
  {
   "cell_type": "code",
   "execution_count": 3,
   "id": "041b0575-6d7a-4ba9-8268-8fb2467a4abf",
   "metadata": {},
   "outputs": [
    {
     "data": {
      "text/plain": [
       "\"You're thinking of Ireland!\\n\\nGuinness is indeed a iconic Irish stout beer that originated in Dublin, Ireland. The company was founded by Arthur Guinness in 1759 and has since become one of the most recognizable and beloved beers around the world.\\n\\nIreland, where the emerald hills meet the blue sky, and a pint of Guinness awaits at every pub!\\n\\nDid I get it right?\""
      ]
     },
     "execution_count": 3,
     "metadata": {},
     "output_type": "execute_result"
    }
   ],
   "source": [
    "llm = Ollama(model=\"llama3.1\")\n",
    "llm.invoke(\"The Country Where Guinness is from...\")"
   ]
  },
  {
   "cell_type": "code",
   "execution_count": 4,
   "id": "334c6720-ed42-4fc9-9ebd-fbd4b4bf8090",
   "metadata": {},
   "outputs": [
    {
     "data": {
      "text/html": [
       "<div>\n",
       "<style scoped>\n",
       "    .dataframe tbody tr th:only-of-type {\n",
       "        vertical-align: middle;\n",
       "    }\n",
       "\n",
       "    .dataframe tbody tr th {\n",
       "        vertical-align: top;\n",
       "    }\n",
       "\n",
       "    .dataframe thead th {\n",
       "        text-align: right;\n",
       "    }\n",
       "</style>\n",
       "<table border=\"1\" class=\"dataframe\">\n",
       "  <thead>\n",
       "    <tr style=\"text-align: right;\">\n",
       "      <th></th>\n",
       "      <th>Date</th>\n",
       "      <th>Name</th>\n",
       "      <th>Expense</th>\n",
       "      <th>Amount</th>\n",
       "    </tr>\n",
       "  </thead>\n",
       "  <tbody>\n",
       "    <tr>\n",
       "      <th>0</th>\n",
       "      <td>2023-04-26</td>\n",
       "      <td>Salary Deposit</td>\n",
       "      <td>Income</td>\n",
       "      <td>592.04</td>\n",
       "    </tr>\n",
       "    <tr>\n",
       "      <th>1</th>\n",
       "      <td>2024-04-05</td>\n",
       "      <td>Salary Deposit</td>\n",
       "      <td>Income</td>\n",
       "      <td>397.03</td>\n",
       "    </tr>\n",
       "    <tr>\n",
       "      <th>2</th>\n",
       "      <td>2023-07-23</td>\n",
       "      <td>Salary Deposit</td>\n",
       "      <td>Income</td>\n",
       "      <td>159.08</td>\n",
       "    </tr>\n",
       "    <tr>\n",
       "      <th>3</th>\n",
       "      <td>2024-10-30</td>\n",
       "      <td>Water Utility</td>\n",
       "      <td>Expense</td>\n",
       "      <td>391.51</td>\n",
       "    </tr>\n",
       "    <tr>\n",
       "      <th>4</th>\n",
       "      <td>2023-05-24</td>\n",
       "      <td>Salary Deposit</td>\n",
       "      <td>Income</td>\n",
       "      <td>527.63</td>\n",
       "    </tr>\n",
       "  </tbody>\n",
       "</table>\n",
       "</div>"
      ],
      "text/plain": [
       "         Date            Name  Expense  Amount\n",
       "0  2023-04-26  Salary Deposit   Income  592.04\n",
       "1  2024-04-05  Salary Deposit   Income  397.03\n",
       "2  2023-07-23  Salary Deposit   Income  159.08\n",
       "3  2024-10-30   Water Utility  Expense  391.51\n",
       "4  2023-05-24  Salary Deposit   Income  527.63"
      ]
     },
     "execution_count": 4,
     "metadata": {},
     "output_type": "execute_result"
    }
   ],
   "source": [
    "# Read the Transaction Data \n",
    "\n",
    "import pandas as pd\n",
    "df = pd.read_csv(\"bank_transactions.csv\")\n",
    "df.head()"
   ]
  },
  {
   "cell_type": "code",
   "execution_count": 5,
   "id": "67ccc90d-1498-49de-8758-3efa4e771c64",
   "metadata": {},
   "outputs": [
    {
     "data": {
      "text/plain": [
       "26"
      ]
     },
     "execution_count": 5,
     "metadata": {},
     "output_type": "execute_result"
    }
   ],
   "source": [
    "# Get unique transaction in the Name/Description column\n",
    "\n",
    "unique_transactions = df[\"Name\"].unique()\n",
    "len(unique_transactions)"
   ]
  },
  {
   "cell_type": "code",
   "execution_count": 6,
   "id": "dd7221a0-0dbb-4d7a-b75c-386fcee194e4",
   "metadata": {},
   "outputs": [
    {
     "data": {
      "text/plain": [
       "array(['Water Utility', 'Spotify', 'Kroger', 'Misc Income',\n",
       "       'Gym Membership', 'Target', 'Netflix', 'Apple Store', 'Uber',\n",
       "       'Starbucks', 'Home Depot', 'Internet Provider', 'Walgreens',\n",
       "       'Costco', 'Amazon', 'Phone Company', 'Best Buy',\n",
       "       'Electric Company', 'Walmart', 'CVS Pharmacy', 'Rent Payment',\n",
       "       \"McDonald's\", 'Car Insurance', 'Health Insurance', 'Shell Gas'],\n",
       "      dtype=object)"
      ]
     },
     "execution_count": 6,
     "metadata": {},
     "output_type": "execute_result"
    }
   ],
   "source": [
    "unique_transactions[1:26]"
   ]
  },
  {
   "cell_type": "markdown",
   "id": "aceb38bf-bb5f-41e3-8c02-c59ac7c7a91e",
   "metadata": {},
   "source": [
    "### To get Most Optimal Tokenized Response we will feed only 30 unique transactions at a time."
   ]
  },
  {
   "cell_type": "code",
   "execution_count": 21,
   "id": "5f53fedd-25e2-48d0-a54d-ca9e82ebc6d4",
   "metadata": {},
   "outputs": [],
   "source": [
    "response = llm.invoke(\"Can you add an appropriate category next to each of the following expenses. Respond with a list of categories separated by commas. For example, Spotify - \\\n",
    "Entertainment, Water Utility - Waterbill, Kroger - Shopping, Misc Income - Income, Gym Membership - Fitness, Target - Shopping, Netflix - Entertainment, Apple Store - Shopping, Uber - Taxi, Starbucks - Coffee, Home Depot - Shopping, Internet Provide - Internet Bill, Walgreens - Shopping, Costco - Shopping, Amazon - Shopping, Phone Company - Phonebill, Best Buy - Electronic shopping, Electric Company - ElectricBill, Walmart - Shopping, CVS Pharmacy - Pharmaceutical Shopping, Rent Payment - HouseRent, McDonald's - Takeout, Car Insurance - CarBill, Health Insurance - HealthBill, Shell Gas - Fuel etc.: \\\n",
    "\"+\",\".join(unique_transactions[1:30]))"
   ]
  },
  {
   "cell_type": "code",
   "execution_count": 8,
   "id": "6a33ea3c-91ba-4c91-b6ce-918435278d0b",
   "metadata": {},
   "outputs": [
    {
     "data": {
      "text/plain": [
       "[0, 26]"
      ]
     },
     "execution_count": 8,
     "metadata": {},
     "output_type": "execute_result"
    }
   ],
   "source": [
    "def hop(start, stop, step):\n",
    "    for i in range(start, stop, step):\n",
    "        yield i\n",
    "    yield stop \n",
    "\n",
    "index_list = list(hop(0,len(unique_transactions), 30000))\n",
    "index_list"
   ]
  },
  {
   "cell_type": "code",
   "execution_count": 9,
   "id": "a5d0a24d-cd5c-413e-8c51-1cdcc376989a",
   "metadata": {},
   "outputs": [],
   "source": [
    "def categorize_transaction(transaction_names, llm):\n",
    "    response = llm.invoke(\"can you categorize the transactions to the expense. For Example: 'Water Utility' - Waterbill, 'Spotify'- Entertainment, 'Kroger' - Groceries, 'Misc Income' - Income etc.:\" + \",\".join(unique_transactions[1:30]))\n",
    "    response = response.split('\\n')\n",
    "\n",
    "    print(response)\n",
    "    \n",
    "    # Creating a dataframe\n",
    "    categories_df = pd.DataFrame({'Transaction vs category': response})\n",
    "    categories_df[['Transaction', 'Category']] = categories_df['Transaction vs category'].str.split(' - ', expand=True)\n",
    "    \n",
    "    return categories_df"
   ]
  },
  {
   "cell_type": "code",
   "execution_count": 10,
   "id": "32cb0b00-9e3f-497d-9bfd-fdc006f12c0f",
   "metadata": {},
   "outputs": [
    {
     "name": "stdout",
     "output_type": "stream",
     "text": [
      "['Here are the categorized transactions:', '', '* **Rent and Utilities:**', '\\t+ Water Utility (Waterbill)', '\\t+ Electric Company', '\\t+ Internet Provider', '* **Groceries:**', '\\t+ Kroger', '\\t+ Costco', '\\t+ Target', '\\t+ Walmart', '\\t+ CVS Pharmacy', '* **Entertainment:**', '\\t+ Spotify', '\\t+ Netflix', '\\t+ Apple Store', '\\t+ Best Buy', '\\t+ Home Depot (for DIY projects/hobbies)', '\\t+ Shell Gas (assuming for road trips/travel)', '* **Income:**', '\\t+ Misc Income', '* **Transportation:**', '\\t+ Uber', '\\t+ Car Insurance', '\\t+ Phone Company (assuming for phone plan)', '* **Health and Wellness:**', '\\t+ Gym Membership', '\\t+ Health Insurance', '* **Shopping:**', '\\t+ Amazon', '\\t+ Best Buy', '\\t+ Home Depot', '* **Food and Drink:**', '\\t+ Starbucks', \"\\t+ McDonald's\"]\n"
     ]
    },
    {
     "ename": "ValueError",
     "evalue": "Columns must be same length as key",
     "output_type": "error",
     "traceback": [
      "\u001b[0;31m---------------------------------------------------------------------------\u001b[0m",
      "\u001b[0;31mValueError\u001b[0m                                Traceback (most recent call last)",
      "Cell \u001b[0;32mIn[10], line 1\u001b[0m\n\u001b[0;32m----> 1\u001b[0m \u001b[43mcategorize_transaction\u001b[49m\u001b[43m(\u001b[49m\u001b[38;5;124;43m'\u001b[39;49m\u001b[38;5;124;43mStarbucks, Home Depot, Internet Provider, Walgreens\u001b[39;49m\u001b[38;5;124;43m'\u001b[39;49m\u001b[43m,\u001b[49m\u001b[43mllm\u001b[49m\u001b[43m)\u001b[49m\n",
      "Cell \u001b[0;32mIn[9], line 9\u001b[0m, in \u001b[0;36mcategorize_transaction\u001b[0;34m(transaction_names, llm)\u001b[0m\n\u001b[1;32m      7\u001b[0m \u001b[38;5;66;03m# Creating a dataframe\u001b[39;00m\n\u001b[1;32m      8\u001b[0m categories_df \u001b[38;5;241m=\u001b[39m pd\u001b[38;5;241m.\u001b[39mDataFrame({\u001b[38;5;124m'\u001b[39m\u001b[38;5;124mTransaction vs category\u001b[39m\u001b[38;5;124m'\u001b[39m: response})\n\u001b[0;32m----> 9\u001b[0m \u001b[43mcategories_df\u001b[49m\u001b[43m[\u001b[49m\u001b[43m[\u001b[49m\u001b[38;5;124;43m'\u001b[39;49m\u001b[38;5;124;43mTransaction\u001b[39;49m\u001b[38;5;124;43m'\u001b[39;49m\u001b[43m,\u001b[49m\u001b[43m \u001b[49m\u001b[38;5;124;43m'\u001b[39;49m\u001b[38;5;124;43mCategory\u001b[39;49m\u001b[38;5;124;43m'\u001b[39;49m\u001b[43m]\u001b[49m\u001b[43m]\u001b[49m \u001b[38;5;241m=\u001b[39m categories_df[\u001b[38;5;124m'\u001b[39m\u001b[38;5;124mTransaction vs category\u001b[39m\u001b[38;5;124m'\u001b[39m]\u001b[38;5;241m.\u001b[39mstr\u001b[38;5;241m.\u001b[39msplit(\u001b[38;5;124m'\u001b[39m\u001b[38;5;124m - \u001b[39m\u001b[38;5;124m'\u001b[39m, expand\u001b[38;5;241m=\u001b[39m\u001b[38;5;28;01mTrue\u001b[39;00m)\n\u001b[1;32m     11\u001b[0m \u001b[38;5;28;01mreturn\u001b[39;00m categories_df\n",
      "File \u001b[0;32m~/anaconda3/envs/ai/lib/python3.11/site-packages/pandas/core/frame.py:4299\u001b[0m, in \u001b[0;36mDataFrame.__setitem__\u001b[0;34m(self, key, value)\u001b[0m\n\u001b[1;32m   4297\u001b[0m     \u001b[38;5;28mself\u001b[39m\u001b[38;5;241m.\u001b[39m_setitem_frame(key, value)\n\u001b[1;32m   4298\u001b[0m \u001b[38;5;28;01melif\u001b[39;00m \u001b[38;5;28misinstance\u001b[39m(key, (Series, np\u001b[38;5;241m.\u001b[39mndarray, \u001b[38;5;28mlist\u001b[39m, Index)):\n\u001b[0;32m-> 4299\u001b[0m     \u001b[38;5;28;43mself\u001b[39;49m\u001b[38;5;241;43m.\u001b[39;49m\u001b[43m_setitem_array\u001b[49m\u001b[43m(\u001b[49m\u001b[43mkey\u001b[49m\u001b[43m,\u001b[49m\u001b[43m \u001b[49m\u001b[43mvalue\u001b[49m\u001b[43m)\u001b[49m\n\u001b[1;32m   4300\u001b[0m \u001b[38;5;28;01melif\u001b[39;00m \u001b[38;5;28misinstance\u001b[39m(value, DataFrame):\n\u001b[1;32m   4301\u001b[0m     \u001b[38;5;28mself\u001b[39m\u001b[38;5;241m.\u001b[39m_set_item_frame_value(key, value)\n",
      "File \u001b[0;32m~/anaconda3/envs/ai/lib/python3.11/site-packages/pandas/core/frame.py:4341\u001b[0m, in \u001b[0;36mDataFrame._setitem_array\u001b[0;34m(self, key, value)\u001b[0m\n\u001b[1;32m   4336\u001b[0m \u001b[38;5;28;01melse\u001b[39;00m:\n\u001b[1;32m   4337\u001b[0m     \u001b[38;5;66;03m# Note: unlike self.iloc[:, indexer] = value, this will\u001b[39;00m\n\u001b[1;32m   4338\u001b[0m     \u001b[38;5;66;03m#  never try to overwrite values inplace\u001b[39;00m\n\u001b[1;32m   4340\u001b[0m     \u001b[38;5;28;01mif\u001b[39;00m \u001b[38;5;28misinstance\u001b[39m(value, DataFrame):\n\u001b[0;32m-> 4341\u001b[0m         \u001b[43mcheck_key_length\u001b[49m\u001b[43m(\u001b[49m\u001b[38;5;28;43mself\u001b[39;49m\u001b[38;5;241;43m.\u001b[39;49m\u001b[43mcolumns\u001b[49m\u001b[43m,\u001b[49m\u001b[43m \u001b[49m\u001b[43mkey\u001b[49m\u001b[43m,\u001b[49m\u001b[43m \u001b[49m\u001b[43mvalue\u001b[49m\u001b[43m)\u001b[49m\n\u001b[1;32m   4342\u001b[0m         \u001b[38;5;28;01mfor\u001b[39;00m k1, k2 \u001b[38;5;129;01min\u001b[39;00m \u001b[38;5;28mzip\u001b[39m(key, value\u001b[38;5;241m.\u001b[39mcolumns):\n\u001b[1;32m   4343\u001b[0m             \u001b[38;5;28mself\u001b[39m[k1] \u001b[38;5;241m=\u001b[39m value[k2]\n",
      "File \u001b[0;32m~/anaconda3/envs/ai/lib/python3.11/site-packages/pandas/core/indexers/utils.py:390\u001b[0m, in \u001b[0;36mcheck_key_length\u001b[0;34m(columns, key, value)\u001b[0m\n\u001b[1;32m    388\u001b[0m \u001b[38;5;28;01mif\u001b[39;00m columns\u001b[38;5;241m.\u001b[39mis_unique:\n\u001b[1;32m    389\u001b[0m     \u001b[38;5;28;01mif\u001b[39;00m \u001b[38;5;28mlen\u001b[39m(value\u001b[38;5;241m.\u001b[39mcolumns) \u001b[38;5;241m!=\u001b[39m \u001b[38;5;28mlen\u001b[39m(key):\n\u001b[0;32m--> 390\u001b[0m         \u001b[38;5;28;01mraise\u001b[39;00m \u001b[38;5;167;01mValueError\u001b[39;00m(\u001b[38;5;124m\"\u001b[39m\u001b[38;5;124mColumns must be same length as key\u001b[39m\u001b[38;5;124m\"\u001b[39m)\n\u001b[1;32m    391\u001b[0m \u001b[38;5;28;01melse\u001b[39;00m:\n\u001b[1;32m    392\u001b[0m     \u001b[38;5;66;03m# Missing keys in columns are represented as -1\u001b[39;00m\n\u001b[1;32m    393\u001b[0m     \u001b[38;5;28;01mif\u001b[39;00m \u001b[38;5;28mlen\u001b[39m(columns\u001b[38;5;241m.\u001b[39mget_indexer_non_unique(key)[\u001b[38;5;241m0\u001b[39m]) \u001b[38;5;241m!=\u001b[39m \u001b[38;5;28mlen\u001b[39m(value\u001b[38;5;241m.\u001b[39mcolumns):\n",
      "\u001b[0;31mValueError\u001b[0m: Columns must be same length as key"
     ]
    }
   ],
   "source": [
    "categorize_transaction('Starbucks, Home Depot, Internet Provider, Walgreens',llm)"
   ]
  },
  {
   "cell_type": "code",
   "execution_count": 19,
   "id": "06488c2f-7d8f-43c3-8a2b-68e8df218c31",
   "metadata": {},
   "outputs": [
    {
     "name": "stdout",
     "output_type": "stream",
     "text": [
      "                             Transaction vs category Transaction  \\\n",
      "0            Here is the list with added categories:        None   \n",
      "1                                                           None   \n",
      "2  Starbucks - Food & Dining, Home Depot - Home I...   Starbucks   \n",
      "\n",
      "                                            Category  \n",
      "0                                               None  \n",
      "1                                               None  \n",
      "2  Food & Dining, Home Depot - Home Improvement, ...  \n"
     ]
    }
   ],
   "source": [
    "import pandas as pd\n",
    "\n",
    "def categorize_transaction(transaction_names, llm):\n",
    "    # Prompt the language model\n",
    "    response = llm.invoke(\n",
    "        \"Can you add an appropriate category next to each of the following expenses. \"\n",
    "        \"Respond with a list of categories separated by commas. For example, \"\n",
    "        \"Spotify - Entertainment, Water Utility - Waterbill, Kroger - Shopping, Misc Income - Income, \"\n",
    "        \"Gym Membership - Fitness, Netflix - Entertainment, Uber - Taxi, Electric Company - Electric Bill etc.: \"\n",
    "        + transaction_names\n",
    "    )\n",
    "    \n",
    "    # Split the response by lines\n",
    "    response_lines = response.split('\\n')\n",
    "\n",
    "    # Prepare lists to store the values\n",
    "    combined_list = []\n",
    "    transactions = []\n",
    "    categories = []\n",
    "\n",
    "    # Iterate over the lines and look for valid \"Transaction - Category\" pairs\n",
    "    for line in response_lines:\n",
    "        line = line.strip()  # Remove any leading/trailing whitespace\n",
    "        if ' - ' in line:  # Check if line contains the expected separator\n",
    "            combined_list.append(line)\n",
    "            transaction, category = line.split(' - ', 1)  # Split only once\n",
    "            transactions.append(transaction.strip())\n",
    "            categories.append(category.strip())\n",
    "        else:\n",
    "            combined_list.append(line)\n",
    "            transactions.append(None)\n",
    "            categories.append(None)\n",
    "\n",
    "    # Create a DataFrame with the extracted information\n",
    "    categories_df = pd.DataFrame({\n",
    "        'Transaction vs category': combined_list,\n",
    "        'Transaction': transactions,\n",
    "        'Category': categories\n",
    "    })\n",
    "\n",
    "    return categories_df\n",
    "\n",
    "# Example usage\n",
    "transaction_names = 'Starbucks, Home Depot, Internet Provider, Walgreens, Costco, Amazon, Phone Company, Best Buy, Walmart, CVS Pharmacy, Rent Payment, McDonald\\'s, Car Insurance, Health Insurance, Shell Gas'\n",
    "categories_df = categorize_transaction(transaction_names, llm)\n",
    "print(categories_df)"
   ]
  },
  {
   "cell_type": "code",
   "execution_count": 20,
   "id": "e830c913-c793-46fc-886e-a7eab04b472a",
   "metadata": {},
   "outputs": [
    {
     "data": {
      "text/html": [
       "<div>\n",
       "<style scoped>\n",
       "    .dataframe tbody tr th:only-of-type {\n",
       "        vertical-align: middle;\n",
       "    }\n",
       "\n",
       "    .dataframe tbody tr th {\n",
       "        vertical-align: top;\n",
       "    }\n",
       "\n",
       "    .dataframe thead th {\n",
       "        text-align: right;\n",
       "    }\n",
       "</style>\n",
       "<table border=\"1\" class=\"dataframe\">\n",
       "  <thead>\n",
       "    <tr style=\"text-align: right;\">\n",
       "      <th></th>\n",
       "      <th>Transaction vs category</th>\n",
       "      <th>Transaction</th>\n",
       "      <th>Category</th>\n",
       "    </tr>\n",
       "  </thead>\n",
       "  <tbody>\n",
       "    <tr>\n",
       "      <th>0</th>\n",
       "      <td>Here is the list with added categories:</td>\n",
       "      <td>None</td>\n",
       "      <td>None</td>\n",
       "    </tr>\n",
       "    <tr>\n",
       "      <th>1</th>\n",
       "      <td></td>\n",
       "      <td>None</td>\n",
       "      <td>None</td>\n",
       "    </tr>\n",
       "    <tr>\n",
       "      <th>2</th>\n",
       "      <td>Starbucks - Food &amp; Dining, Home Depot - Home I...</td>\n",
       "      <td>Starbucks</td>\n",
       "      <td>Food &amp; Dining, Home Depot - Home Improvement, ...</td>\n",
       "    </tr>\n",
       "  </tbody>\n",
       "</table>\n",
       "</div>"
      ],
      "text/plain": [
       "                             Transaction vs category Transaction  \\\n",
       "0            Here is the list with added categories:        None   \n",
       "1                                                           None   \n",
       "2  Starbucks - Food & Dining, Home Depot - Home I...   Starbucks   \n",
       "\n",
       "                                            Category  \n",
       "0                                               None  \n",
       "1                                               None  \n",
       "2  Food & Dining, Home Depot - Home Improvement, ...  "
      ]
     },
     "metadata": {},
     "output_type": "display_data"
    }
   ],
   "source": [
    "import pandas as pd\n",
    "from IPython.display import display\n",
    "\n",
    "# Set pandas options to show all rows and columns\n",
    "pd.set_option('display.max_rows', None)\n",
    "pd.set_option('display.max_columns', None)\n",
    "\n",
    "# Use display to show the DataFrame\n",
    "display(categories_df)\n"
   ]
  },
  {
   "cell_type": "code",
   "execution_count": null,
   "id": "9e2c6a5d-34a5-4029-91ce-cc9e0aeea38a",
   "metadata": {},
   "outputs": [],
   "source": []
  }
 ],
 "metadata": {
  "kernelspec": {
   "display_name": "Python 3 (ipykernel)",
   "language": "python",
   "name": "python3"
  },
  "language_info": {
   "codemirror_mode": {
    "name": "ipython",
    "version": 3
   },
   "file_extension": ".py",
   "mimetype": "text/x-python",
   "name": "python",
   "nbconvert_exporter": "python",
   "pygments_lexer": "ipython3",
   "version": "3.11.8"
  }
 },
 "nbformat": 4,
 "nbformat_minor": 5
}
