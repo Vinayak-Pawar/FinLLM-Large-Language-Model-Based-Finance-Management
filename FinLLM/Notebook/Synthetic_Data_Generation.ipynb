{
 "cells": [
  {
   "cell_type": "code",
   "execution_count": 3,
   "id": "ad4b1912-eeea-4a84-9bca-4099c797e639",
   "metadata": {},
   "outputs": [
    {
     "name": "stdout",
     "output_type": "stream",
     "text": [
      "Date,Name,Expense,Amount\n",
      "2023-04-26,Salary Deposit,Income,592.04\n",
      "2024-04-05,Salary Deposit,Income,397.03\n",
      "2023-07-23,Salary Deposit,Income,159.08\n",
      "2024-10-30,Water Utility,Expense,391.51\n",
      "2023-05-24,Salary Deposit,Income,527.63\n",
      "2024-04-27,Spotify,Expense,334.18\n",
      "2024-01-22,Kroger,Expense,219.65\n",
      "2024-10-11,Salary Deposit,Income,752.41\n",
      "2024-09-18,Misc Income,Income,185.38\n",
      "2022-05-14,Salary Deposit,Income,215.65\n",
      "\n",
      "... (total 30000 transactions generated)\n"
     ]
    }
   ],
   "source": [
    "import random\n",
    "from datetime import datetime, timedelta\n",
    "\n",
    "# List of sample business names\n",
    "businesses = [\n",
    "    \"Walmart\", \"Amazon\", \"Target\", \"Costco\", \"Starbucks\", \"McDonald's\", \"Uber\", \"Shell Gas\",\n",
    "    \"Home Depot\", \"Best Buy\", \"Apple Store\", \"Kroger\", \"CVS Pharmacy\", \"Walgreens\",\n",
    "    \"Netflix\", \"Spotify\", \"Gym Membership\", \"Electric Company\", \"Water Utility\",\n",
    "    \"Internet Provider\", \"Phone Company\", \"Rent Payment\", \"Car Insurance\", \"Health Insurance\"\n",
    "]\n",
    "\n",
    "# Function to generate a random date between 2022-01-01 and 2024-12-31\n",
    "def random_date():\n",
    "    start = datetime(2022, 1, 1)\n",
    "    end = datetime(2024, 12, 31)\n",
    "    return start + timedelta(seconds=random.randint(0, int((end - start).total_seconds())))\n",
    "\n",
    "# Function to generate a single transaction\n",
    "def generate_transaction():\n",
    "    date = random_date().strftime(\"%Y-%m-%d\")\n",
    "    name = random.choice(businesses)\n",
    "    expense_type = random.choice([\"Expense\", \"Income\"])\n",
    "    amount = round(random.uniform(1, 1000), 2)\n",
    "    \n",
    "    if expense_type == \"Income\":\n",
    "        name = \"Salary Deposit\" if random.random() < 0.8 else \"Misc Income\"\n",
    "    \n",
    "    return f\"{date},{name},{expense_type},{amount}\"\n",
    "\n",
    "# Generate 3000 transactions\n",
    "transactions = [generate_transaction() for _ in range(30000)]\n",
    "\n",
    "# Print header and first 10 transactions as a sample\n",
    "print(\"Date,Name,Expense,Amount\")\n",
    "for transaction in transactions[:10]:\n",
    "    print(transaction)\n",
    "\n",
    "print(f\"\\n... (total {len(transactions)} transactions generated)\")"
   ]
  },
  {
   "cell_type": "code",
   "execution_count": 4,
   "id": "0ae6b5d1-7ef4-4e6b-8679-b71dad255c79",
   "metadata": {},
   "outputs": [
    {
     "name": "stdout",
     "output_type": "stream",
     "text": [
      "Generated 30000 transactions and saved to bank_transactions.csv\n"
     ]
    }
   ],
   "source": [
    "# Save all transactions to a CSV file\n",
    "with open('bank_transactions.csv', 'w') as f:\n",
    "    f.write(\"Date,Name,Expense,Amount\\n\")\n",
    "    for transaction in transactions:\n",
    "        f.write(f\"{transaction}\\n\")\n",
    "\n",
    "print(f\"Generated {len(transactions)} transactions and saved to bank_transactions.csv\")"
   ]
  },
  {
   "cell_type": "code",
   "execution_count": null,
   "id": "94f128b1-7db1-4ab5-aa55-c37cf0f045b7",
   "metadata": {},
   "outputs": [],
   "source": []
  }
 ],
 "metadata": {
  "kernelspec": {
   "display_name": "Python 3 (ipykernel)",
   "language": "python",
   "name": "python3"
  },
  "language_info": {
   "codemirror_mode": {
    "name": "ipython",
    "version": 3
   },
   "file_extension": ".py",
   "mimetype": "text/x-python",
   "name": "python",
   "nbconvert_exporter": "python",
   "pygments_lexer": "ipython3",
   "version": "3.11.8"
  }
 },
 "nbformat": 4,
 "nbformat_minor": 5
}
