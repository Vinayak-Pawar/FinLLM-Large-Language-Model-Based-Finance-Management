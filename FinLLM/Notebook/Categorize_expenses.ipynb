{
 "cells": [
  {
   "cell_type": "code",
   "execution_count": 1,
   "id": "68251511-2ddd-4c0c-86ed-7e59cd00c233",
   "metadata": {},
   "outputs": [],
   "source": [
    "# !pip install langchain_community"
   ]
  },
  {
   "cell_type": "code",
   "execution_count": 2,
   "id": "cc4d2588-9e58-4acf-97ae-c348f1f82649",
   "metadata": {},
   "outputs": [],
   "source": [
    "from langchain_community.llms import Ollama"
   ]
  },
  {
   "cell_type": "code",
   "execution_count": 3,
   "id": "041b0575-6d7a-4ba9-8268-8fb2467a4abf",
   "metadata": {},
   "outputs": [
    {
     "data": {
      "text/plain": [
       "\"You're thinking of Ireland!\\n\\nGuinness, the famous stout beer, has its origins in Dublin, Ireland. It was first brewed by Arthur Guinness at the St. James's Gate Brewery in 1759. The company that still produces Guinness today, Diageo, is headquartered in London, but the iconic brewery where it all began remains in Dublin.\\n\\nSo, to answer your question: yes, Guinness is from Ireland!\""
      ]
     },
     "execution_count": 3,
     "metadata": {},
     "output_type": "execute_result"
    }
   ],
   "source": [
    "llm = Ollama(model=\"llama3.1\")\n",
    "llm.invoke(\"The Country Where Guinness is from...\")"
   ]
  },
  {
   "cell_type": "code",
   "execution_count": 4,
   "id": "334c6720-ed42-4fc9-9ebd-fbd4b4bf8090",
   "metadata": {},
   "outputs": [
    {
     "data": {
      "text/html": [
       "<div>\n",
       "<style scoped>\n",
       "    .dataframe tbody tr th:only-of-type {\n",
       "        vertical-align: middle;\n",
       "    }\n",
       "\n",
       "    .dataframe tbody tr th {\n",
       "        vertical-align: top;\n",
       "    }\n",
       "\n",
       "    .dataframe thead th {\n",
       "        text-align: right;\n",
       "    }\n",
       "</style>\n",
       "<table border=\"1\" class=\"dataframe\">\n",
       "  <thead>\n",
       "    <tr style=\"text-align: right;\">\n",
       "      <th></th>\n",
       "      <th>Date</th>\n",
       "      <th>Name</th>\n",
       "      <th>Expense</th>\n",
       "      <th>Amount</th>\n",
       "    </tr>\n",
       "  </thead>\n",
       "  <tbody>\n",
       "    <tr>\n",
       "      <th>0</th>\n",
       "      <td>2023-04-26</td>\n",
       "      <td>Salary Deposit</td>\n",
       "      <td>Income</td>\n",
       "      <td>592.04</td>\n",
       "    </tr>\n",
       "    <tr>\n",
       "      <th>1</th>\n",
       "      <td>2024-04-05</td>\n",
       "      <td>Salary Deposit</td>\n",
       "      <td>Income</td>\n",
       "      <td>397.03</td>\n",
       "    </tr>\n",
       "    <tr>\n",
       "      <th>2</th>\n",
       "      <td>2023-07-23</td>\n",
       "      <td>Salary Deposit</td>\n",
       "      <td>Income</td>\n",
       "      <td>159.08</td>\n",
       "    </tr>\n",
       "    <tr>\n",
       "      <th>3</th>\n",
       "      <td>2024-10-30</td>\n",
       "      <td>Water Utility</td>\n",
       "      <td>Expense</td>\n",
       "      <td>391.51</td>\n",
       "    </tr>\n",
       "    <tr>\n",
       "      <th>4</th>\n",
       "      <td>2023-05-24</td>\n",
       "      <td>Salary Deposit</td>\n",
       "      <td>Income</td>\n",
       "      <td>527.63</td>\n",
       "    </tr>\n",
       "  </tbody>\n",
       "</table>\n",
       "</div>"
      ],
      "text/plain": [
       "         Date            Name  Expense  Amount\n",
       "0  2023-04-26  Salary Deposit   Income  592.04\n",
       "1  2024-04-05  Salary Deposit   Income  397.03\n",
       "2  2023-07-23  Salary Deposit   Income  159.08\n",
       "3  2024-10-30   Water Utility  Expense  391.51\n",
       "4  2023-05-24  Salary Deposit   Income  527.63"
      ]
     },
     "execution_count": 4,
     "metadata": {},
     "output_type": "execute_result"
    }
   ],
   "source": [
    "# Read the Transaction Data \n",
    "\n",
    "import pandas as pd\n",
    "df = pd.read_csv(\"/Users/vinayakpawar/Desktop/Work/Projects/Full_Stack_AI_Projects/Rebuild/FinLLM/Data_Set/bank_transactions.csv\")\n",
    "df.head()"
   ]
  },
  {
   "cell_type": "code",
   "execution_count": 5,
   "id": "67ccc90d-1498-49de-8758-3efa4e771c64",
   "metadata": {},
   "outputs": [
    {
     "data": {
      "text/plain": [
       "26"
      ]
     },
     "execution_count": 5,
     "metadata": {},
     "output_type": "execute_result"
    }
   ],
   "source": [
    "# Get unique transaction in the Name/Description column\n",
    "\n",
    "unique_transactions = df[\"Name\"].unique()\n",
    "len(unique_transactions)"
   ]
  },
  {
   "cell_type": "code",
   "execution_count": 6,
   "id": "dd7221a0-0dbb-4d7a-b75c-386fcee194e4",
   "metadata": {},
   "outputs": [
    {
     "data": {
      "text/plain": [
       "array(['Water Utility', 'Spotify', 'Kroger', 'Misc Income',\n",
       "       'Gym Membership', 'Target', 'Netflix', 'Apple Store', 'Uber',\n",
       "       'Starbucks', 'Home Depot', 'Internet Provider', 'Walgreens',\n",
       "       'Costco', 'Amazon', 'Phone Company', 'Best Buy',\n",
       "       'Electric Company', 'Walmart', 'CVS Pharmacy', 'Rent Payment',\n",
       "       \"McDonald's\", 'Car Insurance', 'Health Insurance', 'Shell Gas'],\n",
       "      dtype=object)"
      ]
     },
     "execution_count": 6,
     "metadata": {},
     "output_type": "execute_result"
    }
   ],
   "source": [
    "unique_transactions[1:26]"
   ]
  },
  {
   "cell_type": "markdown",
   "id": "aceb38bf-bb5f-41e3-8c02-c59ac7c7a91e",
   "metadata": {},
   "source": [
    "### To get Most Optimal Tokenized Response we will feed only 30 unique transactions at a time."
   ]
  },
  {
   "cell_type": "code",
   "execution_count": 7,
   "id": "5f53fedd-25e2-48d0-a54d-ca9e82ebc6d4",
   "metadata": {},
   "outputs": [],
   "source": [
    "# response = llm.invoke(\"Can you add an appropriate category next to each of the following expenses. Respond with a list of categories separated by commas. For example, Spotify - \\\n",
    "# Entertainment, Water Utility - Waterbill, Kroger - Shopping, Misc Income - Income, Gym Membership - Fitness, Target - Shopping, Netflix - Entertainment, Apple Store - Shopping, Uber - Taxi, Starbucks - Coffee, Home Depot - Shopping, Internet Provide - Internet Bill, Walgreens - Shopping, Costco - Shopping, Amazon - Shopping, Phone Company - Phonebill, Best Buy - Electronic shopping, Electric Company - ElectricBill, Walmart - Shopping, CVS Pharmacy - Pharmaceutical Shopping, Rent Payment - HouseRent, McDonald's - Takeout, Car Insurance - CarBill, Health Insurance - HealthBill, Shell Gas - Fuel etc.: \\\n",
    "# \"+\",\".join(unique_transactions[1:30]))"
   ]
  },
  {
   "cell_type": "code",
   "execution_count": 8,
   "id": "802c6786-9eaa-48dd-b41f-61ba4b9dcfd8",
   "metadata": {},
   "outputs": [
    {
     "name": "stdout",
     "output_type": "stream",
     "text": [
      "Here are the categorized transactions:\n",
      "\n",
      "**Groceries:**\n",
      "\n",
      "1. Kroger\n",
      "2. Target\n",
      "3. Costco\n",
      "4. Walmart\n",
      "5. CVS Pharmacy\n",
      "\n",
      "**Entertainment:**\n",
      "\n",
      "1. Spotify\n",
      "2. Netflix\n",
      "3. Apple Store (assuming a purchase of music or an app)\n",
      "4. Uber (ride-sharing service for entertainment purposes)\n",
      "5. McDonald's\n",
      "6. Starbucks\n",
      "\n",
      "**Utilities:**\n",
      "\n",
      "1. Water Utility\n",
      "2. Electric Company\n",
      "3. Phone Company\n",
      "4. Internet Provider\n",
      "\n",
      "**Transportation:**\n",
      "\n",
      "1. Shell Gas\n",
      "\n",
      "**Health and Wellness:**\n",
      "\n",
      "1. Gym Membership\n",
      "\n",
      "**Shopping:**\n",
      "\n",
      "1. Home Depot\n",
      "2. Best Buy\n",
      "3. Amazon (general shopping category)\n",
      "\n",
      "**Income:**\n",
      "\n",
      "1. Misc Income\n",
      "\n",
      "**Rent/Insurance:**\n",
      "\n",
      "1. Rent Payment\n",
      "2. Car Insurance\n",
      "3. Health Insurance\n"
     ]
    }
   ],
   "source": [
    "# Assuming 'unique_transactions' is a list of unique transaction names you've extracted before this point\n",
    "\n",
    "# Define transaction names explicitly from the unique transactions\n",
    "transaction_names = \",\".join(unique_transactions[1:30])  # Adjust the range as needed\n",
    "\n",
    "# Now invoke the LLM with a defined prompt\n",
    "response = llm.invoke(\n",
    "    \"Please categorize the following transactions based on common expense categories. Use categories like 'Groceries', 'Utilities', 'Transportation', 'Entertainment', etc.: \" + transaction_names\n",
    ")\n",
    "\n",
    "# Process the response further as needed\n",
    "print(response)\n"
   ]
  },
  {
   "cell_type": "code",
   "execution_count": 9,
   "id": "a2bf9f8a-578d-43fb-9084-c4593291f121",
   "metadata": {},
   "outputs": [
    {
     "name": "stdout",
     "output_type": "stream",
     "text": [
      "LLM Response:\n",
      "Here are the categorized transactions:\n",
      "\n",
      "**Groceries:**\n",
      "\n",
      "* Kroger\n",
      "* Target\n",
      "* Costco\n",
      "* Walmart\n",
      "* CVS Pharmacy\n",
      "* Amazon (assuming online grocery shopping)\n",
      "\n",
      "**Utilities:**\n",
      "\n",
      "* Water Utility\n",
      "* Electric Company\n",
      "* Internet Provider\n",
      "* Phone Company\n",
      "\n",
      "**Entertainment:**\n",
      "\n",
      "* Spotify\n",
      "* Netflix\n",
      "* Uber\n",
      "* McDonald's\n",
      "* Starbucks\n",
      "\n",
      "**Household/Decor:**\n",
      "\n",
      "* Home Depot\n",
      "\n",
      "**Health/Fitness:**\n",
      "\n",
      "* Gym Membership\n",
      "* Health Insurance (medical expenses)\n",
      "\n",
      "**Transportation:**\n",
      "\n",
      "* Shell Gas\n",
      "* Car Insurance\n",
      "\n",
      "**Miscellaneous:**\n",
      "\n",
      "* Apple Store\n",
      "* Best Buy (assuming not specifically for transportation or household)\n",
      "* Misc Income (not a transaction, but an income category)\n",
      "\n",
      "Note that some transactions could fit into multiple categories (e.g., Amazon could be both a grocery and miscellaneous purchase), but I've placed them in what seems to be their most relevant category.\n",
      "Unexpected line format: Here are the categorized transactions:\n",
      "Unexpected line format: Note that some transactions could fit into multiple categories (e.g., Amazon could be both a grocery and miscellaneous purchase), but I've placed them in what seems to be their most relevant category.\n",
      "    Transaction    Category\n",
      "0        Kroger  Groceries:\n",
      "1        Target  Groceries:\n",
      "2        Costco  Groceries:\n",
      "3       Walmart  Groceries:\n",
      "4  CVS Pharmacy  Groceries:\n"
     ]
    }
   ],
   "source": [
    "import pandas as pd\n",
    "\n",
    "# Initialize an empty DataFrame to hold all categories\n",
    "categories_df_all = pd.DataFrame(columns=['Transaction', 'Category'])\n",
    "\n",
    "# Define a batch size for processing\n",
    "batch_size = 30\n",
    "\n",
    "# Loop through the list of unique transactions in batches\n",
    "for start in range(0, len(unique_transactions), batch_size):\n",
    "    transaction_names = unique_transactions[start:start + batch_size]\n",
    "    transaction_names = \",\".join(transaction_names)\n",
    "    \n",
    "    # Invoke the LLM for categorization\n",
    "    response = llm.invoke(\n",
    "        \"Please categorize the following transactions based on common expense categories. Use categories like 'Groceries', 'Utilities', 'Transportation', 'Entertainment', etc.: \" + transaction_names\n",
    "    )\n",
    "    \n",
    "    # Debug: Print the raw response from the LLM\n",
    "    print(\"LLM Response:\")\n",
    "    print(response)\n",
    "    \n",
    "    # Process the response\n",
    "    response_lines = response.split('\\n')\n",
    "    \n",
    "    current_category = None\n",
    "    transaction_category_pairs = []\n",
    "    \n",
    "    for line in response_lines:\n",
    "        line = line.strip()\n",
    "        \n",
    "        if line.startswith(\"**\") and line.endswith(\"**\"):  # Detect category headings\n",
    "            current_category = line.strip('*').strip()\n",
    "        elif line.startswith(\"*\"):  # Detect transactions with bullet points\n",
    "            transaction = line.lstrip(\"* \").strip()  # Strip the bullet point and any leading whitespace\n",
    "            if current_category and transaction:  # Ensure category and transaction are valid\n",
    "                transaction_category_pairs.append([transaction, current_category])\n",
    "        elif line == '':  # Skip empty lines\n",
    "            continue\n",
    "        else:\n",
    "            # Handle unexpected line formats, for debugging purposes\n",
    "            print(\"Unexpected line format:\", line)\n",
    "    \n",
    "    # Create a DataFrame from the response\n",
    "    categories_df = pd.DataFrame(transaction_category_pairs, columns=['Transaction', 'Category'])\n",
    "    \n",
    "    # Concatenate the results to categories_df_all\n",
    "    categories_df_all = pd.concat([categories_df_all, categories_df], ignore_index=True)\n",
    "\n",
    "# Display the accumulated categories DataFrame\n",
    "print(categories_df_all.head())\n"
   ]
  },
  {
   "cell_type": "code",
   "execution_count": 10,
   "id": "22b99773-470f-46ca-b89c-f1ad1ac775f0",
   "metadata": {},
   "outputs": [
    {
     "name": "stdout",
     "output_type": "stream",
     "text": [
      "         Date            Name  Expense  Amount    Category\n",
      "0  2023-04-26  Salary Deposit   Income  592.04         NaN\n",
      "1  2024-04-05  Salary Deposit   Income  397.03         NaN\n",
      "2  2023-07-23  Salary Deposit   Income  159.08         NaN\n",
      "3  2024-10-30   Water Utility  Expense  391.51  Utilities:\n",
      "4  2023-05-24  Salary Deposit   Income  527.63         NaN\n"
     ]
    }
   ],
   "source": [
    "# Load your original transactions data\n",
    "df = pd.read_csv('/Users/vinayakpawar/Desktop/Work/Projects/Full_Stack_AI_Projects/Rebuild/FinLLM/Data_Set/bank_transactions.csv')\n",
    "\n",
    "# Merge the categorized data into the original DataFrame\n",
    "df = pd.merge(df, categories_df_all, left_on='Name', right_on='Transaction', how='left')\n",
    "\n",
    "# Drop the unnecessary 'Transaction' column after merging\n",
    "df = df.drop(['Transaction'], axis=1)\n",
    "\n",
    "# Display the merged DataFrame\n",
    "print(df.head())\n"
   ]
  },
  {
   "cell_type": "code",
   "execution_count": 11,
   "id": "b1f3e45e-17ba-4131-acd6-119fa3ab8db7",
   "metadata": {},
   "outputs": [
    {
     "name": "stdout",
     "output_type": "stream",
     "text": [
      "         Date            Name  Expense  Amount    Category\n",
      "0  2023-04-26  Salary Deposit   Income  592.04      Income\n",
      "1  2024-04-05  Salary Deposit   Income  397.03      Income\n",
      "2  2023-07-23  Salary Deposit   Income  159.08      Income\n",
      "3  2024-10-30   Water Utility  Expense  391.51  Utilities:\n",
      "4  2023-05-24  Salary Deposit   Income  527.63      Income\n"
     ]
    }
   ],
   "source": [
    "# Because in Expense column Income is set as NaN and want to remove this and replace it using Income in category Column. In the Future \n",
    "# If we want to use ML Algorithms or want to add investment portfolio into this we can easily do this later on.\n",
    "\n",
    "# Update the Category column where 'Expense' is 'Income'\n",
    "df.loc[df['Expense'] == 'Income', 'Category'] = 'Income'\n",
    "\n",
    "# Display the updated DataFrame to verify changes\n",
    "print(df.head())\n"
   ]
  },
  {
   "cell_type": "code",
   "execution_count": 18,
   "id": "4f075606-b526-4250-b115-31f49fb85a79",
   "metadata": {},
   "outputs": [
    {
     "name": "stdout",
     "output_type": "stream",
     "text": [
      "Category\n",
      "Entertainment:      1548789.41\n",
      "Groceries:          1578065.09\n",
      "Health/Fitness:      302980.20\n",
      "Household/Decor:     330542.21\n",
      "Income              7552448.78\n",
      "Miscellaneous:       305916.89\n",
      "Transportation:      621117.74\n",
      "Utilities:          1235431.30\n",
      "Name: Amount, dtype: float64\n"
     ]
    }
   ],
   "source": [
    "# Calculate total spending per category\n",
    "category_totals = df.groupby('Category')['Amount'].sum()\n",
    "# Display the total spending per category\n",
    "print(category_totals)\n"
   ]
  },
  {
   "cell_type": "code",
   "execution_count": 13,
   "id": "4e8b5d1f-7ae0-4a2d-a9b5-e740fbdf0020",
   "metadata": {},
   "outputs": [
    {
     "data": {
      "image/png": "[encoded data removed]",
      "text/plain": [
       "<Figure size 640x480 with 1 Axes>"
      ]
     },
     "metadata": {},
     "output_type": "display_data"
    }
   ],
   "source": [
    "import matplotlib.pyplot as plt\n",
    "\n",
    "# Plot the total spending per category\n",
    "category_totals.plot(kind='bar', title='Total Spending by Category', color='skyblue')\n",
    "plt.ylabel('Total Amount Spent')\n",
    "plt.xlabel('Category')\n",
    "plt.xticks(rotation=45)\n",
    "plt.tight_layout()\n",
    "plt.show()"
   ]
  },
  {
   "cell_type": "code",
   "execution_count": null,
   "id": "0be13aef-30fa-4820-b26a-4d11fd813bf9",
   "metadata": {},
   "outputs": [],
   "source": []
  },
  {
   "cell_type": "code",
   "execution_count": null,
   "id": "48365be7-23e3-4acd-a1bf-5b6ed3aa5151",
   "metadata": {},
   "outputs": [],
   "source": []
  },
  {
   "cell_type": "code",
   "execution_count": null,
   "id": "645760c0-9290-4123-8534-aa4d43784f99",
   "metadata": {},
   "outputs": [],
   "source": []
  },
  {
   "cell_type": "code",
   "execution_count": 14,
   "id": "8573365e-67ed-48da-b82c-0f4ca992bc28",
   "metadata": {},
   "outputs": [
    {
     "ename": "SyntaxError",
     "evalue": "invalid syntax (2621717190.py, line 1)",
     "output_type": "error",
     "traceback": [
      "\u001b[0;36m  Cell \u001b[0;32mIn[14], line 1\u001b[0;36m\u001b[0m\n\u001b[0;31m    jupyter nbconvert --to script your_notebook.ipynb\u001b[0m\n\u001b[0m            ^\u001b[0m\n\u001b[0;31mSyntaxError\u001b[0m\u001b[0;31m:\u001b[0m invalid syntax\n"
     ]
    }
   ],
   "source": [
    "jupyter nbconvert --to script your_notebook.ipynb"
   ]
  }
 ],
 "metadata": {
  "kernelspec": {
   "display_name": "Python 3 (ipykernel)",
   "language": "python",
   "name": "python3"
  },
  "language_info": {
   "codemirror_mode": {
    "name": "ipython",
    "version": 3
   },
   "file_extension": ".py",
   "mimetype": "text/x-python",
   "name": "python",
   "nbconvert_exporter": "python",
   "pygments_lexer": "ipython3",
   "version": "3.11.8"
  }
 },
 "nbformat": 4,
 "nbformat_minor": 5
}
